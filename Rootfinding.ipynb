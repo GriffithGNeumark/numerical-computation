{
 "cells": [
  {
   "cell_type": "markdown",
   "metadata": {},
   "source": [
    "#### Jupyter notebooks\n",
    "\n",
    "This is a [Jupyter](http://jupyter.org/) notebook using Python.  You can install Jupyter locally to edit and interact with this notebook.\n",
    "\n",
    "# Rootfinding\n",
    "\n",
    "Rootfinding is the process of solving $$f(x) = 0$$ for $x$.  The standard assumption is that $f : R \\to R$ is _continuous_.  We are interested in developing general-purpose algorithms---those that can use $f(x)$ as a black box without needing to look inside.  When we implement our rootfinding algorithm in software, the user will pass a function or program to compute $f(x)$.  Rootfinding methods for differentiable functions may also use the derivative $f'(x)$.\n",
    "\n",
    "Some questions immediately arise:\n",
    "* **Existence.** When does this equation have at least one solution?\n",
    "* **Uniqueness.** When is the solution unique?\n",
    "\n",
    "Let's consider some test functions, defined here along with their derivatives which we'll use later."
   ]
  },
  {
   "cell_type": "code",
   "execution_count": 64,
   "metadata": {
    "collapsed": false
   },
   "outputs": [
    {
     "data": {
      "application/javascript": [
       "/* Put everything inside the global mpl namespace */\n",
       "window.mpl = {};\n",
       "\n",
       "mpl.get_websocket_type = function() {\n",
       "    if (typeof(WebSocket) !== 'undefined') {\n",
       "        return WebSocket;\n",
       "    } else if (typeof(MozWebSocket) !== 'undefined') {\n",
       "        return MozWebSocket;\n",
       "    } else {\n",
       "        alert('Your browser does not have WebSocket support.' +\n",
       "              'Please try Chrome, Safari or Firefox ≥ 6. ' +\n",
       "              'Firefox 4 and 5 are also supported but you ' +\n",
       "              'have to enable WebSockets in about:config.');\n",
       "    };\n",
       "}\n",
       "\n",
       "mpl.figure = function(figure_id, websocket, ondownload, parent_element) {\n",
       "    this.id = figure_id;\n",
       "\n",
       "    this.ws = websocket;\n",
       "\n",
       "    this.supports_binary = (this.ws.binaryType != undefined);\n",
       "\n",
       "    if (!this.supports_binary) {\n",
       "        var warnings = document.getElementById(\"mpl-warnings\");\n",
       "        if (warnings) {\n",
       "            warnings.style.display = 'block';\n",
       "            warnings.textContent = (\n",
       "                \"This browser does not support binary websocket messages. \" +\n",
       "                    \"Performance may be slow.\");\n",
       "        }\n",
       "    }\n",
       "\n",
       "    this.imageObj = new Image();\n",
       "\n",
       "    this.context = undefined;\n",
       "    this.message = undefined;\n",
       "    this.canvas = undefined;\n",
       "    this.rubberband_canvas = undefined;\n",
       "    this.rubberband_context = undefined;\n",
       "    this.format_dropdown = undefined;\n",
       "\n",
       "    this.image_mode = 'full';\n",
       "\n",
       "    this.root = $('<div/>');\n",
       "    this._root_extra_style(this.root)\n",
       "    this.root.attr('style', 'display: inline-block');\n",
       "\n",
       "    $(parent_element).append(this.root);\n",
       "\n",
       "    this._init_header(this);\n",
       "    this._init_canvas(this);\n",
       "    this._init_toolbar(this);\n",
       "\n",
       "    var fig = this;\n",
       "\n",
       "    this.waiting = false;\n",
       "\n",
       "    this.ws.onopen =  function () {\n",
       "            fig.send_message(\"supports_binary\", {value: fig.supports_binary});\n",
       "            fig.send_message(\"send_image_mode\", {});\n",
       "            fig.send_message(\"refresh\", {});\n",
       "        }\n",
       "\n",
       "    this.imageObj.onload = function() {\n",
       "            if (fig.image_mode == 'full') {\n",
       "                // Full images could contain transparency (where diff images\n",
       "                // almost always do), so we need to clear the canvas so that\n",
       "                // there is no ghosting.\n",
       "                fig.context.clearRect(0, 0, fig.canvas.width, fig.canvas.height);\n",
       "            }\n",
       "            fig.context.drawImage(fig.imageObj, 0, 0);\n",
       "        };\n",
       "\n",
       "    this.imageObj.onunload = function() {\n",
       "        this.ws.close();\n",
       "    }\n",
       "\n",
       "    this.ws.onmessage = this._make_on_message_function(this);\n",
       "\n",
       "    this.ondownload = ondownload;\n",
       "}\n",
       "\n",
       "mpl.figure.prototype._init_header = function() {\n",
       "    var titlebar = $(\n",
       "        '<div class=\"ui-dialog-titlebar ui-widget-header ui-corner-all ' +\n",
       "        'ui-helper-clearfix\"/>');\n",
       "    var titletext = $(\n",
       "        '<div class=\"ui-dialog-title\" style=\"width: 100%; ' +\n",
       "        'text-align: center; padding: 3px;\"/>');\n",
       "    titlebar.append(titletext)\n",
       "    this.root.append(titlebar);\n",
       "    this.header = titletext[0];\n",
       "}\n",
       "\n",
       "\n",
       "\n",
       "mpl.figure.prototype._canvas_extra_style = function(canvas_div) {\n",
       "\n",
       "}\n",
       "\n",
       "\n",
       "mpl.figure.prototype._root_extra_style = function(canvas_div) {\n",
       "\n",
       "}\n",
       "\n",
       "mpl.figure.prototype._init_canvas = function() {\n",
       "    var fig = this;\n",
       "\n",
       "    var canvas_div = $('<div/>');\n",
       "\n",
       "    canvas_div.attr('style', 'position: relative; clear: both; outline: 0');\n",
       "\n",
       "    function canvas_keyboard_event(event) {\n",
       "        return fig.key_event(event, event['data']);\n",
       "    }\n",
       "\n",
       "    canvas_div.keydown('key_press', canvas_keyboard_event);\n",
       "    canvas_div.keyup('key_release', canvas_keyboard_event);\n",
       "    this.canvas_div = canvas_div\n",
       "    this._canvas_extra_style(canvas_div)\n",
       "    this.root.append(canvas_div);\n",
       "\n",
       "    var canvas = $('<canvas/>');\n",
       "    canvas.addClass('mpl-canvas');\n",
       "    canvas.attr('style', \"left: 0; top: 0; z-index: 0; outline: 0\")\n",
       "\n",
       "    this.canvas = canvas[0];\n",
       "    this.context = canvas[0].getContext(\"2d\");\n",
       "\n",
       "    var rubberband = $('<canvas/>');\n",
       "    rubberband.attr('style', \"position: absolute; left: 0; top: 0; z-index: 1;\")\n",
       "\n",
       "    var pass_mouse_events = true;\n",
       "\n",
       "    canvas_div.resizable({\n",
       "        start: function(event, ui) {\n",
       "            pass_mouse_events = false;\n",
       "        },\n",
       "        resize: function(event, ui) {\n",
       "            fig.request_resize(ui.size.width, ui.size.height);\n",
       "        },\n",
       "        stop: function(event, ui) {\n",
       "            pass_mouse_events = true;\n",
       "            fig.request_resize(ui.size.width, ui.size.height);\n",
       "        },\n",
       "    });\n",
       "\n",
       "    function mouse_event_fn(event) {\n",
       "        if (pass_mouse_events)\n",
       "            return fig.mouse_event(event, event['data']);\n",
       "    }\n",
       "\n",
       "    rubberband.mousedown('button_press', mouse_event_fn);\n",
       "    rubberband.mouseup('button_release', mouse_event_fn);\n",
       "    // Throttle sequential mouse events to 1 every 20ms.\n",
       "    rubberband.mousemove('motion_notify', mouse_event_fn);\n",
       "\n",
       "    rubberband.mouseenter('figure_enter', mouse_event_fn);\n",
       "    rubberband.mouseleave('figure_leave', mouse_event_fn);\n",
       "\n",
       "    canvas_div.on(\"wheel\", function (event) {\n",
       "        event = event.originalEvent;\n",
       "        event['data'] = 'scroll'\n",
       "        if (event.deltaY < 0) {\n",
       "            event.step = 1;\n",
       "        } else {\n",
       "            event.step = -1;\n",
       "        }\n",
       "        mouse_event_fn(event);\n",
       "    });\n",
       "\n",
       "    canvas_div.append(canvas);\n",
       "    canvas_div.append(rubberband);\n",
       "\n",
       "    this.rubberband = rubberband;\n",
       "    this.rubberband_canvas = rubberband[0];\n",
       "    this.rubberband_context = rubberband[0].getContext(\"2d\");\n",
       "    this.rubberband_context.strokeStyle = \"#000000\";\n",
       "\n",
       "    this._resize_canvas = function(width, height) {\n",
       "        // Keep the size of the canvas, canvas container, and rubber band\n",
       "        // canvas in synch.\n",
       "        canvas_div.css('width', width)\n",
       "        canvas_div.css('height', height)\n",
       "\n",
       "        canvas.attr('width', width);\n",
       "        canvas.attr('height', height);\n",
       "\n",
       "        rubberband.attr('width', width);\n",
       "        rubberband.attr('height', height);\n",
       "    }\n",
       "\n",
       "    // Set the figure to an initial 600x600px, this will subsequently be updated\n",
       "    // upon first draw.\n",
       "    this._resize_canvas(600, 600);\n",
       "\n",
       "    // Disable right mouse context menu.\n",
       "    $(this.rubberband_canvas).bind(\"contextmenu\",function(e){\n",
       "        return false;\n",
       "    });\n",
       "\n",
       "    function set_focus () {\n",
       "        canvas.focus();\n",
       "        canvas_div.focus();\n",
       "    }\n",
       "\n",
       "    window.setTimeout(set_focus, 100);\n",
       "}\n",
       "\n",
       "mpl.figure.prototype._init_toolbar = function() {\n",
       "    var fig = this;\n",
       "\n",
       "    var nav_element = $('<div/>')\n",
       "    nav_element.attr('style', 'width: 100%');\n",
       "    this.root.append(nav_element);\n",
       "\n",
       "    // Define a callback function for later on.\n",
       "    function toolbar_event(event) {\n",
       "        return fig.toolbar_button_onclick(event['data']);\n",
       "    }\n",
       "    function toolbar_mouse_event(event) {\n",
       "        return fig.toolbar_button_onmouseover(event['data']);\n",
       "    }\n",
       "\n",
       "    for(var toolbar_ind in mpl.toolbar_items) {\n",
       "        var name = mpl.toolbar_items[toolbar_ind][0];\n",
       "        var tooltip = mpl.toolbar_items[toolbar_ind][1];\n",
       "        var image = mpl.toolbar_items[toolbar_ind][2];\n",
       "        var method_name = mpl.toolbar_items[toolbar_ind][3];\n",
       "\n",
       "        if (!name) {\n",
       "            // put a spacer in here.\n",
       "            continue;\n",
       "        }\n",
       "        var button = $('<button/>');\n",
       "        button.addClass('ui-button ui-widget ui-state-default ui-corner-all ' +\n",
       "                        'ui-button-icon-only');\n",
       "        button.attr('role', 'button');\n",
       "        button.attr('aria-disabled', 'false');\n",
       "        button.click(method_name, toolbar_event);\n",
       "        button.mouseover(tooltip, toolbar_mouse_event);\n",
       "\n",
       "        var icon_img = $('<span/>');\n",
       "        icon_img.addClass('ui-button-icon-primary ui-icon');\n",
       "        icon_img.addClass(image);\n",
       "        icon_img.addClass('ui-corner-all');\n",
       "\n",
       "        var tooltip_span = $('<span/>');\n",
       "        tooltip_span.addClass('ui-button-text');\n",
       "        tooltip_span.html(tooltip);\n",
       "\n",
       "        button.append(icon_img);\n",
       "        button.append(tooltip_span);\n",
       "\n",
       "        nav_element.append(button);\n",
       "    }\n",
       "\n",
       "    var fmt_picker_span = $('<span/>');\n",
       "\n",
       "    var fmt_picker = $('<select/>');\n",
       "    fmt_picker.addClass('mpl-toolbar-option ui-widget ui-widget-content');\n",
       "    fmt_picker_span.append(fmt_picker);\n",
       "    nav_element.append(fmt_picker_span);\n",
       "    this.format_dropdown = fmt_picker[0];\n",
       "\n",
       "    for (var ind in mpl.extensions) {\n",
       "        var fmt = mpl.extensions[ind];\n",
       "        var option = $(\n",
       "            '<option/>', {selected: fmt === mpl.default_extension}).html(fmt);\n",
       "        fmt_picker.append(option)\n",
       "    }\n",
       "\n",
       "    // Add hover states to the ui-buttons\n",
       "    $( \".ui-button\" ).hover(\n",
       "        function() { $(this).addClass(\"ui-state-hover\");},\n",
       "        function() { $(this).removeClass(\"ui-state-hover\");}\n",
       "    );\n",
       "\n",
       "    var status_bar = $('<span class=\"mpl-message\"/>');\n",
       "    nav_element.append(status_bar);\n",
       "    this.message = status_bar[0];\n",
       "}\n",
       "\n",
       "mpl.figure.prototype.request_resize = function(x_pixels, y_pixels) {\n",
       "    // Request matplotlib to resize the figure. Matplotlib will then trigger a resize in the client,\n",
       "    // which will in turn request a refresh of the image.\n",
       "    this.send_message('resize', {'width': x_pixels, 'height': y_pixels});\n",
       "}\n",
       "\n",
       "mpl.figure.prototype.send_message = function(type, properties) {\n",
       "    properties['type'] = type;\n",
       "    properties['figure_id'] = this.id;\n",
       "    this.ws.send(JSON.stringify(properties));\n",
       "}\n",
       "\n",
       "mpl.figure.prototype.send_draw_message = function() {\n",
       "    if (!this.waiting) {\n",
       "        this.waiting = true;\n",
       "        this.ws.send(JSON.stringify({type: \"draw\", figure_id: this.id}));\n",
       "    }\n",
       "}\n",
       "\n",
       "\n",
       "mpl.figure.prototype.handle_save = function(fig, msg) {\n",
       "    var format_dropdown = fig.format_dropdown;\n",
       "    var format = format_dropdown.options[format_dropdown.selectedIndex].value;\n",
       "    fig.ondownload(fig, format);\n",
       "}\n",
       "\n",
       "\n",
       "mpl.figure.prototype.handle_resize = function(fig, msg) {\n",
       "    var size = msg['size'];\n",
       "    if (size[0] != fig.canvas.width || size[1] != fig.canvas.height) {\n",
       "        fig._resize_canvas(size[0], size[1]);\n",
       "        fig.send_message(\"refresh\", {});\n",
       "    };\n",
       "}\n",
       "\n",
       "mpl.figure.prototype.handle_rubberband = function(fig, msg) {\n",
       "    var x0 = msg['x0'];\n",
       "    var y0 = fig.canvas.height - msg['y0'];\n",
       "    var x1 = msg['x1'];\n",
       "    var y1 = fig.canvas.height - msg['y1'];\n",
       "    x0 = Math.floor(x0) + 0.5;\n",
       "    y0 = Math.floor(y0) + 0.5;\n",
       "    x1 = Math.floor(x1) + 0.5;\n",
       "    y1 = Math.floor(y1) + 0.5;\n",
       "    var min_x = Math.min(x0, x1);\n",
       "    var min_y = Math.min(y0, y1);\n",
       "    var width = Math.abs(x1 - x0);\n",
       "    var height = Math.abs(y1 - y0);\n",
       "\n",
       "    fig.rubberband_context.clearRect(\n",
       "        0, 0, fig.canvas.width, fig.canvas.height);\n",
       "\n",
       "    fig.rubberband_context.strokeRect(min_x, min_y, width, height);\n",
       "}\n",
       "\n",
       "mpl.figure.prototype.handle_figure_label = function(fig, msg) {\n",
       "    // Updates the figure title.\n",
       "    fig.header.textContent = msg['label'];\n",
       "}\n",
       "\n",
       "mpl.figure.prototype.handle_cursor = function(fig, msg) {\n",
       "    var cursor = msg['cursor'];\n",
       "    switch(cursor)\n",
       "    {\n",
       "    case 0:\n",
       "        cursor = 'pointer';\n",
       "        break;\n",
       "    case 1:\n",
       "        cursor = 'default';\n",
       "        break;\n",
       "    case 2:\n",
       "        cursor = 'crosshair';\n",
       "        break;\n",
       "    case 3:\n",
       "        cursor = 'move';\n",
       "        break;\n",
       "    }\n",
       "    fig.rubberband_canvas.style.cursor = cursor;\n",
       "}\n",
       "\n",
       "mpl.figure.prototype.handle_message = function(fig, msg) {\n",
       "    fig.message.textContent = msg['message'];\n",
       "}\n",
       "\n",
       "mpl.figure.prototype.handle_draw = function(fig, msg) {\n",
       "    // Request the server to send over a new figure.\n",
       "    fig.send_draw_message();\n",
       "}\n",
       "\n",
       "mpl.figure.prototype.handle_image_mode = function(fig, msg) {\n",
       "    fig.image_mode = msg['mode'];\n",
       "}\n",
       "\n",
       "mpl.figure.prototype.updated_canvas_event = function() {\n",
       "    // Called whenever the canvas gets updated.\n",
       "    this.send_message(\"ack\", {});\n",
       "}\n",
       "\n",
       "// A function to construct a web socket function for onmessage handling.\n",
       "// Called in the figure constructor.\n",
       "mpl.figure.prototype._make_on_message_function = function(fig) {\n",
       "    return function socket_on_message(evt) {\n",
       "        if (evt.data instanceof Blob) {\n",
       "            /* FIXME: We get \"Resource interpreted as Image but\n",
       "             * transferred with MIME type text/plain:\" errors on\n",
       "             * Chrome.  But how to set the MIME type?  It doesn't seem\n",
       "             * to be part of the websocket stream */\n",
       "            evt.data.type = \"image/png\";\n",
       "\n",
       "            /* Free the memory for the previous frames */\n",
       "            if (fig.imageObj.src) {\n",
       "                (window.URL || window.webkitURL).revokeObjectURL(\n",
       "                    fig.imageObj.src);\n",
       "            }\n",
       "\n",
       "            fig.imageObj.src = (window.URL || window.webkitURL).createObjectURL(\n",
       "                evt.data);\n",
       "            fig.updated_canvas_event();\n",
       "            fig.waiting = false;\n",
       "            return;\n",
       "        }\n",
       "        else if (typeof evt.data === 'string' && evt.data.slice(0, 21) == \"data:image/png;base64\") {\n",
       "            fig.imageObj.src = evt.data;\n",
       "            fig.updated_canvas_event();\n",
       "            fig.waiting = false;\n",
       "            return;\n",
       "        }\n",
       "\n",
       "        var msg = JSON.parse(evt.data);\n",
       "        var msg_type = msg['type'];\n",
       "\n",
       "        // Call the  \"handle_{type}\" callback, which takes\n",
       "        // the figure and JSON message as its only arguments.\n",
       "        try {\n",
       "            var callback = fig[\"handle_\" + msg_type];\n",
       "        } catch (e) {\n",
       "            console.log(\"No handler for the '\" + msg_type + \"' message type: \", msg);\n",
       "            return;\n",
       "        }\n",
       "\n",
       "        if (callback) {\n",
       "            try {\n",
       "                // console.log(\"Handling '\" + msg_type + \"' message: \", msg);\n",
       "                callback(fig, msg);\n",
       "            } catch (e) {\n",
       "                console.log(\"Exception inside the 'handler_\" + msg_type + \"' callback:\", e, e.stack, msg);\n",
       "            }\n",
       "        }\n",
       "    };\n",
       "}\n",
       "\n",
       "// from http://stackoverflow.com/questions/1114465/getting-mouse-location-in-canvas\n",
       "mpl.findpos = function(e) {\n",
       "    //this section is from http://www.quirksmode.org/js/events_properties.html\n",
       "    var targ;\n",
       "    if (!e)\n",
       "        e = window.event;\n",
       "    if (e.target)\n",
       "        targ = e.target;\n",
       "    else if (e.srcElement)\n",
       "        targ = e.srcElement;\n",
       "    if (targ.nodeType == 3) // defeat Safari bug\n",
       "        targ = targ.parentNode;\n",
       "\n",
       "    // jQuery normalizes the pageX and pageY\n",
       "    // pageX,Y are the mouse positions relative to the document\n",
       "    // offset() returns the position of the element relative to the document\n",
       "    var x = e.pageX - $(targ).offset().left;\n",
       "    var y = e.pageY - $(targ).offset().top;\n",
       "\n",
       "    return {\"x\": x, \"y\": y};\n",
       "};\n",
       "\n",
       "/*\n",
       " * return a copy of an object with only non-object keys\n",
       " * we need this to avoid circular references\n",
       " * http://stackoverflow.com/a/24161582/3208463\n",
       " */\n",
       "function simpleKeys (original) {\n",
       "  return Object.keys(original).reduce(function (obj, key) {\n",
       "    if (typeof original[key] !== 'object')\n",
       "        obj[key] = original[key]\n",
       "    return obj;\n",
       "  }, {});\n",
       "}\n",
       "\n",
       "mpl.figure.prototype.mouse_event = function(event, name) {\n",
       "    var canvas_pos = mpl.findpos(event)\n",
       "\n",
       "    if (name === 'button_press')\n",
       "    {\n",
       "        this.canvas.focus();\n",
       "        this.canvas_div.focus();\n",
       "    }\n",
       "\n",
       "    var x = canvas_pos.x;\n",
       "    var y = canvas_pos.y;\n",
       "\n",
       "    this.send_message(name, {x: x, y: y, button: event.button,\n",
       "                             step: event.step,\n",
       "                             guiEvent: simpleKeys(event)});\n",
       "\n",
       "    /* This prevents the web browser from automatically changing to\n",
       "     * the text insertion cursor when the button is pressed.  We want\n",
       "     * to control all of the cursor setting manually through the\n",
       "     * 'cursor' event from matplotlib */\n",
       "    event.preventDefault();\n",
       "    return false;\n",
       "}\n",
       "\n",
       "mpl.figure.prototype._key_event_extra = function(event, name) {\n",
       "    // Handle any extra behaviour associated with a key event\n",
       "}\n",
       "\n",
       "mpl.figure.prototype.key_event = function(event, name) {\n",
       "\n",
       "    // Prevent repeat events\n",
       "    if (name == 'key_press')\n",
       "    {\n",
       "        if (event.which === this._key)\n",
       "            return;\n",
       "        else\n",
       "            this._key = event.which;\n",
       "    }\n",
       "    if (name == 'key_release')\n",
       "        this._key = null;\n",
       "\n",
       "    var value = '';\n",
       "    if (event.ctrlKey && event.which != 17)\n",
       "        value += \"ctrl+\";\n",
       "    if (event.altKey && event.which != 18)\n",
       "        value += \"alt+\";\n",
       "    if (event.shiftKey && event.which != 16)\n",
       "        value += \"shift+\";\n",
       "\n",
       "    value += 'k';\n",
       "    value += event.which.toString();\n",
       "\n",
       "    this._key_event_extra(event, name);\n",
       "\n",
       "    this.send_message(name, {key: value,\n",
       "                             guiEvent: simpleKeys(event)});\n",
       "    return false;\n",
       "}\n",
       "\n",
       "mpl.figure.prototype.toolbar_button_onclick = function(name) {\n",
       "    if (name == 'download') {\n",
       "        this.handle_save(this, null);\n",
       "    } else {\n",
       "        this.send_message(\"toolbar_button\", {name: name});\n",
       "    }\n",
       "};\n",
       "\n",
       "mpl.figure.prototype.toolbar_button_onmouseover = function(tooltip) {\n",
       "    this.message.textContent = tooltip;\n",
       "};\n",
       "mpl.toolbar_items = [[\"Home\", \"Reset original view\", \"fa fa-home icon-home\", \"home\"], [\"Back\", \"Back to  previous view\", \"fa fa-arrow-left icon-arrow-left\", \"back\"], [\"Forward\", \"Forward to next view\", \"fa fa-arrow-right icon-arrow-right\", \"forward\"], [\"\", \"\", \"\", \"\"], [\"Pan\", \"Pan axes with left mouse, zoom with right\", \"fa fa-arrows icon-move\", \"pan\"], [\"Zoom\", \"Zoom to rectangle\", \"fa fa-square-o icon-check-empty\", \"zoom\"], [\"\", \"\", \"\", \"\"], [\"Download\", \"Download plot\", \"fa fa-floppy-o icon-save\", \"download\"]];\n",
       "\n",
       "mpl.extensions = [\"eps\", \"pdf\", \"png\", \"ps\", \"raw\", \"svg\"];\n",
       "\n",
       "mpl.default_extension = \"png\";var comm_websocket_adapter = function(comm) {\n",
       "    // Create a \"websocket\"-like object which calls the given IPython comm\n",
       "    // object with the appropriate methods. Currently this is a non binary\n",
       "    // socket, so there is still some room for performance tuning.\n",
       "    var ws = {};\n",
       "\n",
       "    ws.close = function() {\n",
       "        comm.close()\n",
       "    };\n",
       "    ws.send = function(m) {\n",
       "        //console.log('sending', m);\n",
       "        comm.send(m);\n",
       "    };\n",
       "    // Register the callback with on_msg.\n",
       "    comm.on_msg(function(msg) {\n",
       "        //console.log('receiving', msg['content']['data'], msg);\n",
       "        // Pass the mpl event to the overriden (by mpl) onmessage function.\n",
       "        ws.onmessage(msg['content']['data'])\n",
       "    });\n",
       "    return ws;\n",
       "}\n",
       "\n",
       "mpl.mpl_figure_comm = function(comm, msg) {\n",
       "    // This is the function which gets called when the mpl process\n",
       "    // starts-up an IPython Comm through the \"matplotlib\" channel.\n",
       "\n",
       "    var id = msg.content.data.id;\n",
       "    // Get hold of the div created by the display call when the Comm\n",
       "    // socket was opened in Python.\n",
       "    var element = $(\"#\" + id);\n",
       "    var ws_proxy = comm_websocket_adapter(comm)\n",
       "\n",
       "    function ondownload(figure, format) {\n",
       "        window.open(figure.imageObj.src);\n",
       "    }\n",
       "\n",
       "    var fig = new mpl.figure(id, ws_proxy,\n",
       "                           ondownload,\n",
       "                           element.get(0));\n",
       "\n",
       "    // Call onopen now - mpl needs it, as it is assuming we've passed it a real\n",
       "    // web socket which is closed, not our websocket->open comm proxy.\n",
       "    ws_proxy.onopen();\n",
       "\n",
       "    fig.parent_element = element.get(0);\n",
       "    fig.cell_info = mpl.find_output_cell(\"<div id='\" + id + \"'></div>\");\n",
       "    if (!fig.cell_info) {\n",
       "        console.error(\"Failed to find cell for figure\", id, fig);\n",
       "        return;\n",
       "    }\n",
       "\n",
       "    var output_index = fig.cell_info[2]\n",
       "    var cell = fig.cell_info[0];\n",
       "\n",
       "};\n",
       "\n",
       "mpl.figure.prototype.handle_close = function(fig, msg) {\n",
       "    fig.root.unbind('remove')\n",
       "\n",
       "    // Update the output cell to use the data from the current canvas.\n",
       "    fig.push_to_output();\n",
       "    var dataURL = fig.canvas.toDataURL();\n",
       "    // Re-enable the keyboard manager in IPython - without this line, in FF,\n",
       "    // the notebook keyboard shortcuts fail.\n",
       "    IPython.keyboard_manager.enable()\n",
       "    $(fig.parent_element).html('<img src=\"' + dataURL + '\">');\n",
       "    fig.close_ws(fig, msg);\n",
       "}\n",
       "\n",
       "mpl.figure.prototype.close_ws = function(fig, msg){\n",
       "    fig.send_message('closing', msg);\n",
       "    // fig.ws.close()\n",
       "}\n",
       "\n",
       "mpl.figure.prototype.push_to_output = function(remove_interactive) {\n",
       "    // Turn the data on the canvas into data in the output cell.\n",
       "    var dataURL = this.canvas.toDataURL();\n",
       "    this.cell_info[1]['text/html'] = '<img src=\"' + dataURL + '\">';\n",
       "}\n",
       "\n",
       "mpl.figure.prototype.updated_canvas_event = function() {\n",
       "    // Tell IPython that the notebook contents must change.\n",
       "    IPython.notebook.set_dirty(true);\n",
       "    this.send_message(\"ack\", {});\n",
       "    var fig = this;\n",
       "    // Wait a second, then push the new image to the DOM so\n",
       "    // that it is saved nicely (might be nice to debounce this).\n",
       "    setTimeout(function () { fig.push_to_output() }, 1000);\n",
       "}\n",
       "\n",
       "mpl.figure.prototype._init_toolbar = function() {\n",
       "    var fig = this;\n",
       "\n",
       "    var nav_element = $('<div/>')\n",
       "    nav_element.attr('style', 'width: 100%');\n",
       "    this.root.append(nav_element);\n",
       "\n",
       "    // Define a callback function for later on.\n",
       "    function toolbar_event(event) {\n",
       "        return fig.toolbar_button_onclick(event['data']);\n",
       "    }\n",
       "    function toolbar_mouse_event(event) {\n",
       "        return fig.toolbar_button_onmouseover(event['data']);\n",
       "    }\n",
       "\n",
       "    for(var toolbar_ind in mpl.toolbar_items){\n",
       "        var name = mpl.toolbar_items[toolbar_ind][0];\n",
       "        var tooltip = mpl.toolbar_items[toolbar_ind][1];\n",
       "        var image = mpl.toolbar_items[toolbar_ind][2];\n",
       "        var method_name = mpl.toolbar_items[toolbar_ind][3];\n",
       "\n",
       "        if (!name) { continue; };\n",
       "\n",
       "        var button = $('<button class=\"btn btn-default\" href=\"#\" title=\"' + name + '\"><i class=\"fa ' + image + ' fa-lg\"></i></button>');\n",
       "        button.click(method_name, toolbar_event);\n",
       "        button.mouseover(tooltip, toolbar_mouse_event);\n",
       "        nav_element.append(button);\n",
       "    }\n",
       "\n",
       "    // Add the status bar.\n",
       "    var status_bar = $('<span class=\"mpl-message\" style=\"text-align:right; float: right;\"/>');\n",
       "    nav_element.append(status_bar);\n",
       "    this.message = status_bar[0];\n",
       "\n",
       "    // Add the close button to the window.\n",
       "    var buttongrp = $('<div class=\"btn-group inline pull-right\"></div>');\n",
       "    var button = $('<button class=\"btn btn-mini btn-primary\" href=\"#\" title=\"Stop Interaction\"><i class=\"fa fa-power-off icon-remove icon-large\"></i></button>');\n",
       "    button.click(function (evt) { fig.handle_close(fig, {}); } );\n",
       "    button.mouseover('Stop Interaction', toolbar_mouse_event);\n",
       "    buttongrp.append(button);\n",
       "    var titlebar = this.root.find($('.ui-dialog-titlebar'));\n",
       "    titlebar.prepend(buttongrp);\n",
       "}\n",
       "\n",
       "mpl.figure.prototype._root_extra_style = function(el){\n",
       "    var fig = this\n",
       "    el.on(\"remove\", function(){\n",
       "\tfig.close_ws(fig, {});\n",
       "    });\n",
       "}\n",
       "\n",
       "mpl.figure.prototype._canvas_extra_style = function(el){\n",
       "    // this is important to make the div 'focusable\n",
       "    el.attr('tabindex', 0)\n",
       "    // reach out to IPython and tell the keyboard manager to turn it's self\n",
       "    // off when our div gets focus\n",
       "\n",
       "    // location in version 3\n",
       "    if (IPython.notebook.keyboard_manager) {\n",
       "        IPython.notebook.keyboard_manager.register_events(el);\n",
       "    }\n",
       "    else {\n",
       "        // location in version 2\n",
       "        IPython.keyboard_manager.register_events(el);\n",
       "    }\n",
       "\n",
       "}\n",
       "\n",
       "mpl.figure.prototype._key_event_extra = function(event, name) {\n",
       "    var manager = IPython.notebook.keyboard_manager;\n",
       "    if (!manager)\n",
       "        manager = IPython.keyboard_manager;\n",
       "\n",
       "    // Check for shift+enter\n",
       "    if (event.shiftKey && event.which == 13) {\n",
       "        this.canvas_div.blur();\n",
       "        event.shiftKey = false;\n",
       "        // Send a \"J\" for go to next cell\n",
       "        event.which = 74;\n",
       "        event.keyCode = 74;\n",
       "        manager.command_mode();\n",
       "        manager.handle_keydown(event);\n",
       "    }\n",
       "}\n",
       "\n",
       "mpl.figure.prototype.handle_save = function(fig, msg) {\n",
       "    fig.ondownload(fig, null);\n",
       "}\n",
       "\n",
       "\n",
       "mpl.find_output_cell = function(html_output) {\n",
       "    // Return the cell and output element which can be found *uniquely* in the notebook.\n",
       "    // Note - this is a bit hacky, but it is done because the \"notebook_saving.Notebook\"\n",
       "    // IPython event is triggered only after the cells have been serialised, which for\n",
       "    // our purposes (turning an active figure into a static one), is too late.\n",
       "    var cells = IPython.notebook.get_cells();\n",
       "    var ncells = cells.length;\n",
       "    for (var i=0; i<ncells; i++) {\n",
       "        var cell = cells[i];\n",
       "        if (cell.cell_type === 'code'){\n",
       "            for (var j=0; j<cell.output_area.outputs.length; j++) {\n",
       "                var data = cell.output_area.outputs[j];\n",
       "                if (data.data) {\n",
       "                    // IPython >= 3 moved mimebundle to data attribute of output\n",
       "                    data = data.data;\n",
       "                }\n",
       "                if (data['text/html'] == html_output) {\n",
       "                    return [cell, data, j];\n",
       "                }\n",
       "            }\n",
       "        }\n",
       "    }\n",
       "}\n",
       "\n",
       "// Register the function which deals with the matplotlib target/channel.\n",
       "// The kernel may be null if the page has been refreshed.\n",
       "if (IPython.notebook.kernel != null) {\n",
       "    IPython.notebook.kernel.comm_manager.register_target('matplotlib', mpl.mpl_figure_comm);\n",
       "}\n"
      ],
      "text/plain": [
       "<IPython.core.display.Javascript object>"
      ]
     },
     "metadata": {},
     "output_type": "display_data"
    },
    {
     "data": {
      "text/html": [
       "<img src=\"data:image/png;base64,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\">"
      ],
      "text/plain": [
       "<IPython.core.display.HTML object>"
      ]
     },
     "metadata": {},
     "output_type": "display_data"
    }
   ],
   "source": [
    "%matplotlib notebook\n",
    "from matplotlib import pyplot\n",
    "import numpy\n",
    "\n",
    "tests = []\n",
    "\n",
    "@tests.append\n",
    "def f0(x):\n",
    "    return x*x - 2, 2*x\n",
    "\n",
    "@tests.append\n",
    "def f1(x):\n",
    "    return numpy.cos(x) - x, -numpy.sin(x) - 1\n",
    "\n",
    "@tests.append\n",
    "def f2(x):\n",
    "    return numpy.exp(-numpy.abs(x)) + numpy.sin(x), numpy.exp(-numpy.abs(x))*(-numpy.sign(x)) + numpy.cos(x)\n",
    "\n",
    "@tests.append\n",
    "def f3(x):\n",
    "    return x*x - x + 0.25, 2*x - 1\n",
    "\n",
    "@tests.append\n",
    "def f4(x):\n",
    "    return numpy.exp(-x*x), numpy.exp(-x*x)*(-2*x)\n",
    "\n",
    "@tests.append\n",
    "def f5(x):\n",
    "    return (x <= 1)*1.0, 0*x\n",
    "\n",
    "@tests.append\n",
    "def f6(x):\n",
    "    return x*numpy.sin(5/x), numpy.sin(5/x) - numpy.cos(5/x)*5/x\n",
    "\n",
    "x = numpy.linspace(-2,2,100)\n",
    "pyplot.plot(x, 0*x, color='k')\n",
    "for f in tests:\n",
    "    pyplot.plot(x, f(x)[0], label=f.__name__)\n",
    "pyplot.legend(loc='upper right')\n",
    "pyplot.style.use('ggplot')\n",
    "pyplot.show()"
   ]
  },
  {
   "cell_type": "markdown",
   "metadata": {},
   "source": [
    "* Which of these functions have at least one root?\n",
    "* Which have more than one root?\n",
    "* Can we determine these properties merely by evaluating $f(x)$ for some values of $x$?\n",
    "\n",
    "## Bisection\n",
    "\n",
    "Bisection is a rootfinding technique that starts with an interval $[a,b]$ containing a root and does not require derivatives."
   ]
  },
  {
   "cell_type": "code",
   "execution_count": 65,
   "metadata": {
    "collapsed": false
   },
   "outputs": [],
   "source": [
    "def hasroot(f, a, b):\n",
    "    return f(a)[0]*f(b)[0] < 0\n",
    "    \n",
    "def bisect(f, a, b, verbose=False):\n",
    "    mid = (a + b)/2.\n",
    "    if b-a < 1e-5:\n",
    "        return mid\n",
    "    if verbose:\n",
    "        print('bisect', mid)\n",
    "    if hasroot(f, a, mid):\n",
    "        return bisect(f, a, mid, verbose)\n",
    "    else:\n",
    "        return bisect(f, mid, b, verbose)"
   ]
  },
  {
   "cell_type": "markdown",
   "metadata": {},
   "source": [
    "* Notice that we need to define `hasroot` above.\n",
    "\n",
    "Let's try running it:"
   ]
  },
  {
   "cell_type": "code",
   "execution_count": 66,
   "metadata": {
    "collapsed": false
   },
   "outputs": [
    {
     "data": {
      "text/plain": [
       "1.4142112731933594"
      ]
     },
     "execution_count": 66,
     "metadata": {},
     "output_type": "execute_result"
    }
   ],
   "source": [
    "bisect(tests[0], 0, 2)"
   ]
  },
  {
   "cell_type": "code",
   "execution_count": 67,
   "metadata": {
    "collapsed": false
   },
   "outputs": [
    {
     "data": {
      "text/plain": [
       "2.2891797357704746e-06"
      ]
     },
     "execution_count": 67,
     "metadata": {},
     "output_type": "execute_result"
    }
   ],
   "source": [
    "numpy.sqrt(2) - bisect(tests[0], 0, 2)"
   ]
  },
  {
   "cell_type": "markdown",
   "metadata": {},
   "source": [
    "We get about 5 digits of accuracy.  Why?  How fast did we get there?"
   ]
  },
  {
   "cell_type": "code",
   "execution_count": 68,
   "metadata": {
    "collapsed": false,
    "scrolled": true
   },
   "outputs": [
    {
     "name": "stdout",
     "output_type": "stream",
     "text": [
      "bisect 1.0\n",
      "bisect 1.5\n",
      "bisect 1.25\n",
      "bisect 1.375\n",
      "bisect 1.4375\n",
      "bisect 1.40625\n",
      "bisect 1.421875\n",
      "bisect 1.4140625\n",
      "bisect 1.41796875\n",
      "bisect 1.416015625\n",
      "bisect 1.4150390625\n",
      "bisect 1.41455078125\n",
      "bisect 1.414306640625\n",
      "bisect 1.4141845703125\n",
      "bisect 1.41424560546875\n",
      "bisect 1.414215087890625\n",
      "bisect 1.4141998291015625\n",
      "bisect 1.4142074584960938\n"
     ]
    },
    {
     "data": {
      "text/plain": [
       "1.4142112731933594"
      ]
     },
     "execution_count": 68,
     "metadata": {},
     "output_type": "execute_result"
    }
   ],
   "source": [
    "bisect(tests[0], 0, 2, verbose=True)"
   ]
  },
  {
   "cell_type": "markdown",
   "metadata": {},
   "source": [
    "Can you find any problems with this implementation?  List them below:\n",
    "\n",
    "* No error checking\n",
    "* Can \"converge\" to nonsense\n",
    "* Recursion is bad in Python\n",
    "* Doesn't handle ill-defined points (function value not available)\n",
    "* Evaluates $f(x)$ more than necessary (multiple times at the same point)\n",
    "\n",
    "Let's try running it on the rest of the test problem set:"
   ]
  },
  {
   "cell_type": "code",
   "execution_count": 69,
   "metadata": {
    "collapsed": false
   },
   "outputs": [
    {
     "name": "stdout",
     "output_type": "stream",
     "text": [
      "f0 -1.4142136573791504\n",
      "f1 0.7390824317932131\n",
      "f2 -0.588533115386963\n",
      "f3 2.0999960899353027\n",
      "f4 2.0999960899353027\n",
      "f5 2.0999960899353027\n",
      "f6 -1.5915507316589355\n"
     ]
    }
   ],
   "source": [
    "for f in tests:\n",
    "    print(f.__name__, bisect(f, -2, 2.1))"
   ]
  },
  {
   "cell_type": "markdown",
   "metadata": {},
   "source": [
    "What's going wrong here?  How can we improve the implementation and what are fundamental limitations of the algorithm?\n",
    "\n",
    "### Convergence rate\n",
    "\n",
    "Let's quantitatively revisit the convergence rate.  A convergent rootfinding algorithm produces a sequence of approximations $x_i$ such that $$\\lim_{i \\to \\infty} x_i \\to x_*$$ where $f(x_*) = 0$.  For analysis, it is convenient to define the errors $e_i = x_i - x_*$. We say that an algorithm is **linearly convergent** if $$\\lim_{i \\to \\infty} |e_{i+1}| / |e_i| = \\rho < 1.$$  A smaller convergence factor $\\rho$ represents faster convergence.\n",
    "\n",
    "What is $\\rho$ for bisection?\n",
    "\n",
    "### Remarks on bisection\n",
    "\n",
    "* Specifying an interval is often inconvenient\n",
    "* An interval in which the function changes sign guarantees convergence (robustness)\n",
    "* No derivative information is required\n",
    "* Roots of even degree are problematic\n",
    "* The solution error is directly available\n",
    "* The convergence rate is modest -- one iteration per bit of accuracy\n",
    "\n",
    "## Newton-Raphson Method\n",
    "\n",
    "Much of numerical analysis reduces to [Taylor series](https://en.wikipedia.org/wiki/Taylor_series), the approximation\n",
    "$$ f(x) = f(x_0) + f'(x_0) (x-x_0) + f''(x_0) (x - x_0)^2 / 2 + \\dotsb $$\n",
    "centered on some reference point $x_0$.\n",
    "In numerical computation, it is exceedingly rare to look beyond the first-order approximation\n",
    "$$ \\tilde f_{x_0}(x) = f(x_0) + f'(x_0)(x - x_0) . $$\n",
    "Since $\\tilde f_{x_0}(x)$ is a linear function, we can explicitly compute the unique solution of $\\tilde f_{x_0}(x) = 0$ as\n",
    "$$ x = x_0 - f(x_0) / f'(x_0) . $$\n",
    "This is Newton's Method (aka Newton-Raphson or Newton-Raphson-Simpson) for finding the roots of differentiable functions."
   ]
  },
  {
   "cell_type": "code",
   "execution_count": 112,
   "metadata": {
    "collapsed": false
   },
   "outputs": [
    {
     "name": "stdout",
     "output_type": "stream",
     "text": [
      "f0 (1.4142135623730956, 1.3322676295501878e-15, 8)\n",
      "f1 (0.73908513321516067, 0.0, 5)\n",
      "f2 (-31.415926535897967, -1.1591479305617497e-14, 6)\n",
      "f3 (0.4999992370620596, 5.820621762353539e-13, 19)\n",
      "f4 (5.2942293326232788, 6.7176741266169553e-13, 3)\n",
      "f5 (0.1, nan, 0)\n",
      "f6 (0.099471839432434594, -1.9490859162596879e-16, 3)\n"
     ]
    }
   ],
   "source": [
    "def newton(f, x, verbose=False):\n",
    "    for i in range(100):\n",
    "        fx, dfx = f(x)\n",
    "        if verbose:\n",
    "            print(f.__name__, i, x, fx)\n",
    "        if numpy.abs(fx) < 1e-12:\n",
    "            return x, fx, i\n",
    "        try:\n",
    "            x -= fx / dfx\n",
    "        except ZeroDivisionError:\n",
    "            return x, numpy.NaN, i\n",
    "\n",
    "for f in tests:\n",
    "    print(f.__name__, newton(f, 0.1))"
   ]
  },
  {
   "cell_type": "markdown",
   "metadata": {},
   "source": [
    "* Oops, how can we fix this?\n",
    "* This output is kinda hard to read, so let's make it cleaner."
   ]
  },
  {
   "cell_type": "code",
   "execution_count": 71,
   "metadata": {
    "collapsed": false
   },
   "outputs": [
    {
     "name": "stdout",
     "output_type": "stream",
     "text": [
      "f0 -1.414213562373 1.33e-15  8\n",
      "f1  0.739085133215 0.00e+00  5\n",
      "f2 -0.588532743981 5.55e-13  4\n",
      "f3  0.499999427800 3.27e-13 20\n",
      "f4 -5.294229332623 6.72e-13  3\n",
      "f5 -0.100000000000      nan  0\n",
      "f6 -0.099471839432 -1.95e-16  3\n"
     ]
    }
   ],
   "source": [
    "for f in tests:\n",
    "    print(f.__name__, '{0:15.12f} {1:8.2e} {2:2d}'.format(*newton(f, -0.1)))"
   ]
  },
  {
   "cell_type": "markdown",
   "metadata": {},
   "source": [
    "* Did we solve all of these equations?\n",
    "* How can the iteration break down?\n",
    "* Does choosing a different initial guess lead to different solutions?\n",
    "* How is this convergence test different from the one we used for bisection?\n",
    "* Is the convergence rate similar for all test equations?\n",
    "\n",
    "## Convergence of Newton-type algorithms\n",
    "\n",
    "We would like to know sharp conditions on when Newton-type algorithms converge, and if so, how fast.  This theory will build on that for a general _Fixed Point Iteration_ $x_{i+1} = g(x_i)$ where $g$ is a continuously differentiable function.  Suppose that there exists a fixed point $r = g(r)$.  By the mean value theorem, we have that\n",
    "$$ x_{i+1} - r = g(x_i) - g(r) = g'(c_i) (x_i - r) $$\n",
    "for some $c$ with $|c - r| < |x_i - r|$.\n",
    "In other words, $|e_{i+1}| = |g'(c_i)| |e_i|$, which converges to zero if $|g'(c_i)| < 1$.\n",
    "If $|g'(r)| < 1$ then for any $\\epsilon > 0$ there is a neighborhood of $r$ such that $|g'(c)| < |g'(r)| + \\epsilon$ for all $c$ in that neighborhood.\n",
    "Consequently, we have:\n",
    "\n",
    "#### Theorem (Sauer 1.6): Linear Convergence of Fixed Point Iteration\n",
    "\n",
    "If $g$ is continuously differentiable, $r = g(r)$, and $|g'(r)| < 1$ then the fixed point iteration $x_{i+1} = g(x_i)$ is locally linearly convergent with rate $|g'(r)|$.\n",
    "\n",
    "#### Observations\n",
    "\n",
    "* A rootfinding problem $f(x) = 0$ can be converted to a fixed point problem $x = x - f(x) =: g(x)$ but there is no guarantee that $g'(r) = 1 - f'(r)$ will have magnitude less than 1.\n",
    "* Problem-specific algebraic manipulation can be used to make $|g'(r)|$ small.\n",
    "* $x = x - h(x)f(x)$ is also a valid formulation for any $h(x)$ bounded away from $0$.\n",
    "* Can we choose $h(x)$ such that $ 1 - h'(x)f(x) - h(x)f'(x) = 0$ when $f(x) = 0$?\n",
    "\n",
    "In other words,\n",
    "$$ x_{i+1} = x_i - ??? . $$\n",
    "\n",
    "* It turns out that Newton's method has _locally quadratic_ convergence to simple roots, $\\lim_{i \\to \\infty} |e_{i+1}|/|e_i^2| < \\infty$.\n",
    "* \"The number of correct digits doubles each iteration.\"\n",
    "* Now that we know how to make a good guess accurate, the effort lies in getting a good guess.\n",
    "\n",
    "#### Culture: fast inverse square root\n",
    "\n",
    "The following code appeared literally (including comments) in the Quake III Arena source code (late 1990s).\n",
    "\n",
    "```C\n",
    "float Q_rsqrt( float number )\n",
    "{\n",
    "\tlong i;\n",
    "\tfloat x2, y;\n",
    "\tconst float threehalfs = 1.5F;\n",
    "\n",
    "\tx2 = number * 0.5F;\n",
    "\ty  = number;\n",
    "\ti  = * ( long * ) &y;                       // evil floating point bit level hacking\n",
    "\ti  = 0x5f3759df - ( i >> 1 );               // what the fuck? \n",
    "\ty  = * ( float * ) &i;\n",
    "\ty  = y * ( threehalfs - ( x2 * y * y ) );   // 1st iteration\n",
    "//\ty  = y * ( threehalfs - ( x2 * y * y ) );   // 2nd iteration, this can be removed\n",
    "\n",
    "\treturn y;\n",
    "}\n",
    "```\n",
    "\n",
    "We now have [vector instructions](https://software.intel.com/sites/landingpage/IntrinsicsGuide/#text=sqrt&expand=2989,1224,4470) for approximate inverse square root.\n",
    "More at https://en.wikipedia.org/wiki/Fast_inverse_square_root\n",
    "\n",
    "## Conditioning\n"
   ]
  },
  {
   "cell_type": "code",
   "execution_count": 72,
   "metadata": {
    "collapsed": false
   },
   "outputs": [
    {
     "data": {
      "text/plain": [
       "(0.899096947850202, 6.650454451607741e-13, 24)"
      ]
     },
     "execution_count": 72,
     "metadata": {},
     "output_type": "execute_result"
    }
   ],
   "source": [
    "def fquartic(x):\n",
    "    return (x - 0.9)**4, 4*(x - 0.9)**3\n",
    "\n",
    "newton(fquartic, 0)"
   ]
  },
  {
   "cell_type": "markdown",
   "metadata": {},
   "source": [
    "We only get three digits correct despite a very small residual (and it takes many iterations to get there).\n",
    "Difficulty computing zeros of polynomials can also arise when all the roots are simple.  For example, the Wilkinson polynomial\n",
    "$$ \\prod_{i=1}^{20} (x - i) = \\sum_{i=0}^{20} a_i x^i $$\n",
    "has roots at each of the positive integers up to 20, but the roots are extremely sensitive to perturbations of the coefficients $a_i$, as shown in this figure from Trefethen and Bau (1999).\n",
    "![Ill conditioning of roots of Wilkinson's polynomial](figures/TB-Wilkinson.png)\n",
    "\n",
    "Numerical difficulties in which \"correct\" algorithms produce unreliable solutions almost always stem from lack of *stability* and/or *ill conditioning*.\n",
    "\n",
    "### Absolute condition number\n",
    "Consider a function $f: X \\to Y$ and define the *absolute condition number*\n",
    "$$ \\hat\\kappa = \\lim_{\\delta \\to 0} \\max_{|\\delta x| < \\delta} \\frac{|f(x + \\delta x) - f(x)|}{|\\delta x|} = \\max_{\\delta x} \\frac{|\\delta f|}{|\\delta x|}. $$\n",
    "If $f$ is differentiable, then $\\hat\\kappa = |f'(x)|$.\n",
    "\n",
    "### Floating point arithmetic\n",
    "Floating point arithmetic $x \\circledast y := \\text{float}(x * y)$ is exact within a relative accuracy $\\epsilon_{\\text{machine}}$.  Formally,\n",
    "$$ x \\circledast y = (x * y) (1 + \\epsilon) $$\n",
    "for some $|\\epsilon| \\le \\epsilon_{\\text{machine}}$."
   ]
  },
  {
   "cell_type": "code",
   "execution_count": 73,
   "metadata": {
    "collapsed": false
   },
   "outputs": [
    {
     "data": {
      "text/plain": [
       "'0.00000000000000002776'"
      ]
     },
     "execution_count": 73,
     "metadata": {},
     "output_type": "execute_result"
    }
   ],
   "source": [
    "format((.2 - 1/3) + 2/15, '.20f')\n",
    "# format((.2 - 1/3) + (1/3 - 0.2), '.20f')\n",
    "# format((1 + 1e-12) - 1, '.20f')"
   ]
  },
  {
   "cell_type": "code",
   "execution_count": 74,
   "metadata": {
    "collapsed": false
   },
   "outputs": [],
   "source": [
    "eps = 1\n",
    "while 1 + eps > 1:\n",
    "    eps /= 2\n",
    "eps_machine = eps  # We call this \"machine epsilon\""
   ]
  },
  {
   "cell_type": "code",
   "execution_count": 75,
   "metadata": {
    "collapsed": false
   },
   "outputs": [
    {
     "data": {
      "text/plain": [
       "8.8900582341031727e-17"
      ]
     },
     "execution_count": 75,
     "metadata": {},
     "output_type": "execute_result"
    }
   ],
   "source": [
    "numpy.log(1 + 1e-12) - numpy.log1p(1e-12)"
   ]
  },
  {
   "cell_type": "code",
   "execution_count": 76,
   "metadata": {
    "collapsed": false
   },
   "outputs": [
    {
     "data": {
      "text/plain": [
       "8.8900582341076178e-05"
      ]
     },
     "execution_count": 76,
     "metadata": {},
     "output_type": "execute_result"
    }
   ],
   "source": [
    "(numpy.log(1 + 1e-12) - numpy.log1p(1e-12)) / numpy.log1p(1e-12)"
   ]
  },
  {
   "cell_type": "code",
   "execution_count": 77,
   "metadata": {
    "collapsed": false
   },
   "outputs": [
    {
     "data": {
      "text/plain": [
       "array([  1.22464680e-16,  -3.39606540e-11,  -2.23936276e-06,\n",
       "        -2.36209053e-01])"
      ]
     },
     "execution_count": 77,
     "metadata": {},
     "output_type": "execute_result"
    }
   ],
   "source": [
    "x = numpy.array([1,1e5,1e10,1e15])\n",
    "numpy.sin(numpy.pi*x)"
   ]
  },
  {
   "cell_type": "code",
   "execution_count": 78,
   "metadata": {
    "collapsed": false
   },
   "outputs": [
    {
     "data": {
      "text/plain": [
       "array([  0.00000000e+00,  -1.11022302e-16,   0.00000000e+00,\n",
       "         0.00000000e+00])"
      ]
     },
     "execution_count": 78,
     "metadata": {},
     "output_type": "execute_result"
    }
   ],
   "source": [
    "numpy.sin(x)**2 + numpy.cos(x)**2 - 1"
   ]
  },
  {
   "cell_type": "code",
   "execution_count": 79,
   "metadata": {
    "collapsed": false
   },
   "outputs": [
    {
     "data": {
      "text/plain": [
       "([1209489.8070879749, 756547.02744709956], 1.0000000000070415)"
      ]
     },
     "execution_count": 79,
     "metadata": {},
     "output_type": "execute_result"
    }
   ],
   "source": [
    "[numpy.tan((3.14159+eps)/2) for eps in [1e-6,1e-8]], 1/numpy.cos(3.14159)**2"
   ]
  },
  {
   "cell_type": "markdown",
   "metadata": {},
   "source": [
    "### Relative condition number\n",
    "\n",
    "Given the relative nature of floating point arithmetic, it is more useful to discuss **relative condition number**,\n",
    "$$ \\kappa = \\max_{\\delta x} \\frac{|\\delta f|/|f|}{|\\delta x|/|x|}\n",
    "= \\max_{\\delta x} \\Big[ \\frac{|\\delta f|/|\\delta x|}{|f| / |x|} \\Big] $$\n",
    "or, if $f$ is differentiable,\n",
    "$$ \\kappa = \\max_{\\delta x} |f'(x)| \\frac{|x|}{|f|} . $$\n",
    "\n",
    "How does a condition number get big?\n",
    "\n",
    "#### Take-home message\n",
    "\n",
    "The relative accuracy of the best-case algorithm will not be reliably better than $\\epsilon_{\\text{machine}}$ times the condition number.\n",
    "$$ \\max_{\\delta x} \\frac{|\\delta f|}{|f|} \\ge \\kappa \\cdot \\epsilon_{\\text{machine}} $$"
   ]
  },
  {
   "cell_type": "markdown",
   "metadata": {},
   "source": [
    "## Numerical differentiation\n",
    "\n",
    "Suppose we want to apply Newton's method to a function that we know how to evaluate, but don't have code to differentiate.  This is often because it's difficult/error-prone to write or because the interface by which we call it does not support derivatives.  (Commercial packages often fall in this category.)"
   ]
  },
  {
   "cell_type": "code",
   "execution_count": 80,
   "metadata": {
    "collapsed": false
   },
   "outputs": [
    {
     "data": {
      "text/plain": [
       "2.2977936220414108e-09"
      ]
     },
     "execution_count": 80,
     "metadata": {},
     "output_type": "execute_result"
    }
   ],
   "source": [
    "def diff(f, x, epsilon=1e-5):\n",
    "    return (f(x + epsilon) - f(x)) / epsilon\n",
    "\n",
    "diff(numpy.sin, 0.7, 1e-8) - numpy.cos(0.7)"
   ]
  },
  {
   "cell_type": "code",
   "execution_count": 81,
   "metadata": {
    "collapsed": false
   },
   "outputs": [
    {
     "data": {
      "text/plain": [
       "7.0935189069309956e-06"
      ]
     },
     "execution_count": 81,
     "metadata": {},
     "output_type": "execute_result"
    }
   ],
   "source": [
    "x = .5\n",
    "diff(numpy.tan, x) - 1/numpy.cos(x)**2"
   ]
  },
  {
   "cell_type": "code",
   "execution_count": 104,
   "metadata": {
    "collapsed": false
   },
   "outputs": [
    {
     "data": {
      "text/plain": [
       "[(1e-14, -1271.3873432741966),\n",
       " (1e-12, 140.14843387738802),\n",
       " (1e-10, 0.32726590032689273),\n",
       " (1e-08, 19.793431113474071),\n",
       " (1e-06, 1982.7670766180381),\n",
       " (0.0001, 226466.63879947271)]"
      ]
     },
     "execution_count": 104,
     "metadata": {},
     "output_type": "execute_result"
    }
   ],
   "source": [
    "x = 3.14/2\n",
    "[(eps, diff(numpy.tan, x, eps) - 1/numpy.cos(x)**2) for eps in [1e-14, 1e-12, 1e-10, 1e-8, 1e-6, 1e-4]]"
   ]
  },
  {
   "cell_type": "code",
   "execution_count": 108,
   "metadata": {
    "collapsed": false
   },
   "outputs": [
    {
     "data": {
      "text/plain": [
       "[(1e-14, -0.0001),\n",
       " (1e-12, -0.0001),\n",
       " (1e-10, -1.1182158029987482e-05),\n",
       " (1e-08, 8.8900582340963692e-09),\n",
       " (1e-06, 8.2740370951168637e-12),\n",
       " (0.0001, -9.4895312988856409e-12),\n",
       " (0.01, -5.0168102921151377e-11)]"
      ]
     },
     "execution_count": 108,
     "metadata": {},
     "output_type": "execute_result"
    }
   ],
   "source": [
    "x = 1e4\n",
    "[(eps, diff(numpy.log, x, eps) - 1/x) for eps in [1e-14, 1e-12, 1e-10, 1e-8, 1e-6, 1e-4, 1e-2]]"
   ]
  },
  {
   "cell_type": "markdown",
   "metadata": {},
   "source": [
    "### Automatically choosing a suitable $\\epsilon$"
   ]
  },
  {
   "cell_type": "code",
   "execution_count": 109,
   "metadata": {
    "collapsed": false
   },
   "outputs": [
    {
     "data": {
      "text/plain": [
       "[(1e-14, -0.00079927783736910563),\n",
       " (1e-12, -2.2121721121481919e-05),\n",
       " (1e-10, 8.2640370990816336e-08),\n",
       " (1e-08, -4.9752407749181771e-09),\n",
       " (1e-06, -9.9996991109740918e-07),\n",
       " (0.0001, -9.9986668776530507e-05),\n",
       " (0.01, -0.0098686351910135528)]"
      ]
     },
     "execution_count": 109,
     "metadata": {},
     "output_type": "execute_result"
    }
   ],
   "source": [
    "def diff_wp(f, x, eps=1e-8):\n",
    "    \"\"\"Numerical derivative with Walker and Pernice (1998) choice of step\"\"\"\n",
    "    h = eps * (1 + abs(x))\n",
    "    return (f(x+h) - f(x)) / h\n",
    "\n",
    "x = 1\n",
    "[(eps, diff_wp(numpy.log, x, eps) - 1/x) for eps in [1e-14, 1e-12, 1e-10, 1e-8, 1e-6, 1e-4, 1e-2]]"
   ]
  },
  {
   "cell_type": "code",
   "execution_count": 110,
   "metadata": {
    "collapsed": false
   },
   "outputs": [
    {
     "data": {
      "text/plain": [
       "[(1e-14, -0.11098307828251563),\n",
       " (1e-12, -0.00085996655070630368),\n",
       " (1e-10, -0.0050162259285571054),\n",
       " (1e-08, -0.50001677127511357),\n",
       " (1e-06, -49.674080904416769),\n",
       " (0.0001, -3068.7213347666539),\n",
       " (0.01, -9538.5241953963505)]"
      ]
     },
     "execution_count": 110,
     "metadata": {},
     "output_type": "execute_result"
    }
   ],
   "source": [
    "x = 1e-4\n",
    "[(eps, diff_wp(numpy.log, x, eps) - 1/x) for eps in [1e-14, 1e-12, 1e-10, 1e-8, 1e-6, 1e-4, 1e-2]]"
   ]
  },
  {
   "cell_type": "markdown",
   "metadata": {},
   "source": [
    "This algorithm is imperfect, leaving some scaling responsibility to the user.\n",
    "It is the default in PETSc's \"matrix-free\" Newton-type solvers."
   ]
  },
  {
   "cell_type": "markdown",
   "metadata": {},
   "source": [
    "## Tinkering in class (2016-09-06)"
   ]
  },
  {
   "cell_type": "code",
   "execution_count": 86,
   "metadata": {
    "collapsed": false
   },
   "outputs": [
    {
     "name": "stderr",
     "output_type": "stream",
     "text": [
      "/usr/lib/python3.5/site-packages/ipykernel/__main__.py:1: RuntimeWarning: invalid value encountered in log\n",
      "  if __name__ == '__main__':\n"
     ]
    },
    {
     "data": {
      "text/plain": [
       "nan"
      ]
     },
     "execution_count": 86,
     "metadata": {},
     "output_type": "execute_result"
    }
   ],
   "source": [
    "numpy.log(-1)"
   ]
  },
  {
   "cell_type": "code",
   "execution_count": 95,
   "metadata": {
    "collapsed": false
   },
   "outputs": [
    {
     "name": "stderr",
     "output_type": "stream",
     "text": [
      "/usr/lib/python3.5/site-packages/ipykernel/__main__.py:1: RuntimeWarning: invalid value encountered in sqrt\n",
      "  if __name__ == '__main__':\n"
     ]
    },
    {
     "data": {
      "text/plain": [
       "0.0"
      ]
     },
     "execution_count": 95,
     "metadata": {},
     "output_type": "execute_result"
    }
   ],
   "source": [
    "x = numpy.sqrt(-1)\n",
    "1/numpy.inf"
   ]
  },
  {
   "cell_type": "code",
   "execution_count": 99,
   "metadata": {
    "collapsed": false
   },
   "outputs": [],
   "source": [
    "x = numpy.linspace(0,3,100)\n",
    "pyplot.plot(x, numpy.sqrt(x + 1e-1))\n",
    "pyplot.show()"
   ]
  },
  {
   "cell_type": "code",
   "execution_count": 100,
   "metadata": {
    "collapsed": false
   },
   "outputs": [
    {
     "data": {
      "text/plain": [
       "-0.41162296288324979"
      ]
     },
     "execution_count": 100,
     "metadata": {},
     "output_type": "execute_result"
    }
   ],
   "source": [
    "numpy.tan(1e100)"
   ]
  },
  {
   "cell_type": "code",
   "execution_count": 102,
   "metadata": {
    "collapsed": false,
    "scrolled": true
   },
   "outputs": [
    {
     "data": {
      "text/plain": [
       "-0.033025094829895622"
      ]
     },
     "execution_count": 102,
     "metadata": {},
     "output_type": "execute_result"
    }
   ],
   "source": [
    "numpy.tan(1e100*(1 + 2*eps_machine))"
   ]
  },
  {
   "cell_type": "code",
   "execution_count": 103,
   "metadata": {
    "collapsed": false,
    "scrolled": true
   },
   "outputs": [
    {
     "data": {
      "text/plain": [
       "-1.942668892225729e+84"
      ]
     },
     "execution_count": 103,
     "metadata": {},
     "output_type": "execute_result"
    }
   ],
   "source": [
    "1e100 - 1e100*(1 + 2*eps_machine)"
   ]
  },
  {
   "cell_type": "markdown",
   "metadata": {},
   "source": [
    "### Accuracy of numerical differentiation\n",
    "\n",
    "##### Discretization error\n",
    "The `diff` and `diff_wp` functions use a \"forward difference\" formula: $\\tilde f'(x) := (f(x+h) - f(x))/h$.\n",
    "Using the Taylor expansion of $f(x+h)$, we compute the discretization error\n",
    "$$ \\begin{split} \\frac{f(x+h) - f(x)}{h} - f'(x) &= \\frac{f(x) + f'(x) h + f''(x) h^2/2 + O(h^3) - f(x)}{h} - f'(x) \\\\\n",
    "&= \\frac{f'(x) h + f''(x) h^2/2 + O(h^3)}{h} - f'(x) \\\\\n",
    "&= f''(x) h/2 + O(h^2)\n",
    "\\end{split} . $$\n",
    "\n",
    "This is the *discretization error* caused by choosing a finite (not infinitesimal) differencing parameter $h$, and the leading order term depends linearly on $h$.\n",
    "\n",
    "#### Rounding error\n",
    "We have an additional source of error, *rounding error*, which comes from not being able to compute $f(x)$ or $f(x+h)$ exactly, nor subtract them exactly.  Suppose that we can, however, compute these functions with a relative error on the order of $\\epsilon_{\\text{machine}}$.  This leads to\n",
    "$$ \\begin{split}\n",
    "\\tilde f(x) &= f(x)(1 + \\epsilon_1) \\\\\n",
    "\\tilde f(x \\oplus h) &= \\tilde f((x+h)(1 + \\epsilon_2)) \\\\\n",
    "&= f((x + h)(1 + \\epsilon_2))(1 + \\epsilon_3) \\\\\n",
    "&= [f(x+h) + f'(x+h)(x+h)\\epsilon_2 + O(\\epsilon_2^2)](1 + \\epsilon_3) \\\\\n",
    "&= f(x+h)(1 + \\epsilon_3) + f'(x+h)x\\epsilon_2 + O(\\epsilon_{\\text{machine}}^2 + \\epsilon_{\\text{machine}} h)\n",
    "\\end{split}\n",
    "$$\n",
    "\n",
    "where each $\\epsilon_i$ is an independent relative error on the order of $\\epsilon_{\\text{machine}}$ and we have used a Taylor expansion at $x+h$ to approximate $f(x \\oplus h)$.\n",
    "We thus write the rounding error in the forward difference approximation as\n",
    "$$ \\begin{split}\n",
    "\\left\\lvert \\frac{\\tilde f(x+h) \\ominus \\tilde f(x)}{h} - \\frac{f(x+h) - f(x)}{h} \\right\\rvert &=\n",
    "  \\left\\lvert \\frac{f(x+h)(1 + \\epsilon_3) + f'(x+h)x\\epsilon_2 + O(\\epsilon_{\\text{machine}}^2 + \\epsilon_{\\text{machine}} h) - f(x)(1 + \\epsilon_1) - f(x+h) + f(x)}{h} \\right\\rvert \\\\\n",
    "  &\\le \\frac{|f(x+h)\\epsilon_3| + |f'(x+h)x\\epsilon_2| + |f(x)\\epsilon_1| + O(\\epsilon_{\\text{machine}}^2 + \\epsilon_{\\text{machine}}h)}{h} \\\\\n",
    "  &\\le \\frac{(2 \\max_{[x,x+h]} |f| + \\max_{[x,x+h]} |f' x| \\epsilon_{\\text{machine}} + O(\\epsilon_{\\text{machine}}^2 + \\epsilon_{\\text{machine}} h)}{h} \\\\\n",
    "  &= (2\\max|f| + \\max|f'x|) \\frac{\\epsilon_{\\text{machine}}}{h} + O(\\epsilon_{\\text{machine}}) \\\\\n",
    "\\end{split} $$\n",
    "where we have assumed that $h \\ge \\epsilon_{\\text{machine}}$.\n",
    "This error becomes large (relative to $f'$ -- we are concerned with relative error after all)\n",
    "* $f$ is large compared to $f'$\n",
    "* $x$ is large\n",
    "* $h$ is too small\n",
    "\n",
    "#### Total error and optimal $h$\n",
    "\n",
    "Suppose we would like to choose $h$ to minimize the combined discretization and rounding error,\n",
    "$$ h^* = \\arg\\min_h | f''(x) h/2 | + (2\\max|f| + \\max|f'x|) \\frac{\\epsilon_{\\text{machine}}}{h} $$\n",
    "(dropping the higher order terms), which we can compute by differentiating with respect to $h$ and setting the result equal to zero\n",
    "$$ |f''|/2 - (2\\max|f| + \\max|f'x|) \\frac{\\epsilon_{\\text{machine}}}{h^2} = 0 $$\n",
    "which can be rearranged as\n",
    "$$ h^* = \\sqrt{\\frac{4\\max|f| + 2\\max|f'x|}{|f''|}} \\sqrt{\\epsilon_{\\text{machine}}} .$$\n",
    "Of course this formula is of little use for computing $h$ because all this is to compute $f'$, which we obviously don't know yet, much less $f''$.\n",
    "However, it does have value:\n",
    "* It explains why `1e-8` (i.e., $\\sqrt{\\epsilon_{\\text{machine}}}$) was empirically found to be about optimal for well-behaved functions.\n",
    "* It explains why even for the best behaved functions, our best attainable accuracy with forward differencing is $\\sqrt{\\epsilon_{\\text{machine}}}$.\n",
    "* If we have some special knowledge about the class of functions we need to differentiate, we might have bounds on these quantities and thus an ability to use this formula to improve accuracy.  Alternatively, we could run a parameter sweep to empirically choose a suitable $h$, though we would have to re-tune in response to parameter changes in the class of functions.\n",
    "* If someone claims to have a simple and robust rule for computing $h$ then this formula tells us how to build a function that breaks their rule.  There are no silver bullets.\n",
    "* If our numerical differentiation routine produces a poor approximation for some function that we run into in the wild, this helps us explain what happened and how to fix it."
   ]
  },
  {
   "cell_type": "markdown",
   "metadata": {},
   "source": [
    "### Centered difference\n",
    "\n",
    "Instead of the forward difference approximation\n",
    "$$ \\frac{f(x+h) - f(x)}{h} $$\n",
    "we could use the centered difference formula,\n",
    "$$ \\frac{f(x+h) - f(x-h)}{2h} . $$\n",
    "(One way to derive this formula is to average a forward and backward difference.  We will learn a more general method later in the course when we do interpolation.)\n",
    "We can compute the discretization error by Taylor expansion,\n",
    "$$ \\frac{f(x) + f'(x)h + f''(x)h^2/2 + f'''(x)h^3/6 - f(x) + f'(x)h - f''(x)h^2/2 + f'''(x) h^3/6 + O(h^4)}{2h}\n",
    "= f'(x) + f'''(x)h^2/6 + O(h^3) $$\n",
    "showing that the leading error term is of order $h^2$, versus order $h$ for forward differences.\n",
    "A similar computation including rounding error will find that the optimal $h$ is now of order $\\sqrt[3]{\\epsilon_{\\text{machine}}}$ so the best attainable accuracy is $\\epsilon_{\\text{machine}}^{2/3}$.\n",
    "This accuracy improvement (versus $\\sqrt{\\epsilon_{\\text{machine}}}$) is significant, but we'll also see that it is twice as expensive when computing derivatives of multi-variate functions."
   ]
  },
  {
   "cell_type": "markdown",
   "metadata": {},
   "source": [
    "## Stability\n",
    "\n",
    "We use the notation $\\tilde f(x)$ to mean a numerical algorithm for approximating $f(x)$.  Additionally, $\\tilde x = x (1 + \\epsilon)$ is some \"good\" approximation of the exact input $x$.\n",
    "\n",
    "### (Forward) Stability\n",
    "**\"nearly the right answer to nearly the right question\"**\n",
    "$$ \\frac{\\lvert \\tilde f(x) - f(\\tilde x) \\rvert}{| f(\\tilde x) |} \\in O(\\epsilon_{\\text{machine}}) $$\n",
    "for some $\\tilde x$ that is close to $x$\n",
    "\n",
    "### Backward Stability\n",
    "**\"exactly the right answer to nearly the right question\"**\n",
    "$$ \\tilde f(x) = f(\\tilde x) $$\n",
    "for some $\\tilde x$ that is close to $x$\n",
    "\n",
    "* Every backward stable algorithm is stable.\n",
    "* Not every stable algorithm is backward stable.\n",
    "\n",
    "#### Example: $\\tilde f(x) = \\text{float}(x) + 1$\n",
    "The algorithm computes\n",
    "$$\\tilde f(x) = \\text{float}(x) \\oplus 1 = [x(1+\\epsilon_1) + 1](1 + \\epsilon_2) = (x + 1 + x\\epsilon_1)(1 + \\epsilon_2) $$\n",
    "and we can express any $\\tilde x = x(1 + \\epsilon_3)$.\n",
    "To see if if the algorithm is stable, we compute\n",
    "$$ \\frac{\\tilde f(x) - f(\\tilde x)}{|f(\\tilde x)|} = \\frac{(x + 1 + x\\epsilon_1)(1 + \\epsilon_2) - [x(1+ \\epsilon_3) + 1]}{\\tilde x + 1} = \\frac{(x + 1)\\epsilon_2 + x(\\epsilon_1 - \\epsilon_3) + O(\\epsilon^2)}{x + 1 + x\\epsilon_3} . $$\n",
    "If we can choose $\\epsilon_3$ to make this small, then the method will be (forward) stable, and if we can make this expression exactly zero, then we'll have backward stability.\n",
    "Trying for the latter, we solve for $\\epsilon_3$ by setting the numerator equal to zero,\n",
    "$$ \\epsilon_3 = \\frac{x + 1}{x}\\epsilon_2 + \\epsilon_1 + O(\\epsilon^2)/x $$\n",
    "which is small so long as $|x| \\gg 0$, but the first term blows up as $x \\to 0$.\n",
    "In other words, the fact that $\\epsilon_2$ can produce a large error relative to the input causes this algorithm to not be backward stable.\n",
    "In contrast, this $x\\to 0$ case is not a problem for forward stability because $\\epsilon_3 = \\epsilon_1$ yields error on the order of $\\epsilon_2$.\n",
    "\n",
    "#### Example: $\\tilde f(x,y) = \\text{float}(x) \\oplus \\text{float}(y)$\n",
    "\n",
    "Now we are interested in\n",
    "$$ \\frac{\\tilde f(x,y) - f(\\tilde x,\\tilde y)}{f(\\tilde x,\\tilde y)} $$\n",
    "and we can vary both $\\tilde x$ and $\\tilde y$.  If we choose $y=1$, then the ability to vary $\\tilde y$ is powerful enough to ensure backward stability.\n",
    "\n",
    "### Accuracy of backward stable algorithms (Theorem)\n",
    "\n",
    "A backward stable algorithm for computing $f(x)$ has relative accuracy\n",
    "$$ \\left\\lvert \\frac{\\tilde f(x) - f(x)}{f(x)} \\right\\rvert \\in O(\\kappa(f) \\epsilon_{\\text{machine}}) . $$\n",
    "This is a rewording of a statement made earlier -- backward stability is the best case."
   ]
  },
  {
   "cell_type": "markdown",
   "metadata": {},
   "source": []
  }
 ],
 "metadata": {
  "kernelspec": {
   "display_name": "Python 3",
   "language": "python",
   "name": "python3"
  },
  "language_info": {
   "codemirror_mode": {
    "name": "ipython",
    "version": 3
   },
   "file_extension": ".py",
   "mimetype": "text/x-python",
   "name": "python",
   "nbconvert_exporter": "python",
   "pygments_lexer": "ipython3",
   "version": "3.5.2"
  }
 },
 "nbformat": 4,
 "nbformat_minor": 0
}
